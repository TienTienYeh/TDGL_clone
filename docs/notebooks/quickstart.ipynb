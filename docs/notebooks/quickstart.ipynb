{
 "cells": [
  {
   "cell_type": "markdown",
   "id": "91a9527a",
   "metadata": {},
   "source": [
    "# Quickstart"
   ]
  },
  {
   "cell_type": "markdown",
   "id": "038ef3ff",
   "metadata": {},
   "source": [
    "`pyTDGL` solves a generalized time-depdendent Ginzburg-Landau (TDGL) equation for two-dimensional superconducting *device* with arbitrary geometry. At a high level, the TDGL model can be understood as a set of coupled partial differential equations (PDEs) describing the evolution of a complex field $\\psi(\\mathbf{r}, t)$ (the superconducting order parameter) and $\\mu(\\mathbf{r}, t)$ (the electric potential) in space and time.\n",
    "\n",
    "The inputs to the model are:\n",
    "\n",
    "1. Properties of the superconducting thin film: thickness $d$, Ginzburg-Landau coherence length $\\xi$, and London penetration depth $\\lambda$ (see `tdgl.Layer`).\n",
    "2. The geometry of the device residing in the film, which can include holes (see `tdgl.Polygon`).\n",
    "3. A time-independent applied magnetic vector potential $\\mathbf{A}_\\mathrm{applied}(\\mathbf{r})$.\n",
    "4. An applied bias current $I_\\mathrm{source-drain}$, which flows into the device through a *source terminal* and out of the device through a *drain terminal*.\n",
    "\n",
    "The outputs of the model are:\n",
    "\n",
    "1. The complex order parameter $\\psi(\\mathbf{r}, t)=|\\psi|e^{i\\theta}$, where $|\\psi|^2=n_s$ is the normalized superfluid density.\n",
    "2. The electric scalar potential $\\mu(\\mathbf{r}, t)$, which arises from motion of vortices in the film.\n",
    "3. The sheet current density in the device, $\\mathbf{K}(\\mathbf{r}, t)=\\mathbf{K}_s(\\mathbf{r}, t)+\\mathbf{K}_n(\\mathbf{r}, t)$, which is the sum of the sheet supercurrent density $\\mathbf{K}_s$ and the sheet normal current density $\\mathbf{K}_n$.\n",
    "\n",
    "While the TDGL calculation is performed in dimensionless units, the inputs and outputs are specified in experimentalist-friendly physics units. The translation between the two is handled by the `tdgl.Device` class."
   ]
  },
  {
   "cell_type": "code",
   "execution_count": 1,
   "id": "3d78cd73",
   "metadata": {},
   "outputs": [],
   "source": [
    "%config InlineBackend.figure_formats = {\"retina\", \"png\"}\n",
    "\n",
    "import os\n",
    "import shutil\n",
    "\n",
    "import matplotlib.pyplot as plt\n",
    "import numpy as np\n",
    "\n",
    "import tdgl\n",
    "from tdgl.geometry import box, circle"
   ]
  },
  {
   "cell_type": "code",
   "execution_count": 2,
   "id": "449bd895",
   "metadata": {},
   "outputs": [],
   "source": [
    "os.makedirs(\"data\", exist_ok=True)"
   ]
  },
  {
   "cell_type": "markdown",
   "id": "12fe2190",
   "metadata": {},
   "source": [
    "## Superconducting weak link"
   ]
  },
  {
   "cell_type": "code",
   "execution_count": 3,
   "id": "7b002257",
   "metadata": {},
   "outputs": [],
   "source": [
    "length_units = \"um\"\n",
    "xi = 0.5\n",
    "london_lambda = 2\n",
    "d = 0.1\n",
    "\n",
    "total_width = 5\n",
    "total_length = 2.5 * total_width\n",
    "link_width = total_width / 5\n",
    "\n",
    "layer = tdgl.Layer(coherence_length=xi, london_lambda=london_lambda, thickness=d)\n",
    "film = tdgl.Polygon(\"film\", points=box(total_length, total_width))\n",
    "notch = (\n",
    "    tdgl.Polygon(points=box(total_width))\n",
    "    .rotate(45)\n",
    "    .translate(dy=(np.sqrt(2) * total_width + link_width) / 2)\n",
    ")\n",
    "film = film.difference(notch, notch.scale(yfact=-1))\n",
    "source = tdgl.Polygon(\n",
    "    points=box(total_length / 100, 1.1 * total_width, center=(-total_length / 2, 0))\n",
    ")\n",
    "drain = source.scale(xfact=-1)\n",
    "voltage_points = [(-total_length / 3, 0), (total_length / 3, 0)]"
   ]
  },
  {
   "cell_type": "code",
   "execution_count": 4,
   "id": "07f20990",
   "metadata": {},
   "outputs": [],
   "source": [
    "device = tdgl.Device(\n",
    "    \"weak_link\",\n",
    "    layer=layer,\n",
    "    film=film,\n",
    "    source_terminal=source,\n",
    "    drain_terminal=drain,\n",
    "    voltage_points=voltage_points,\n",
    "    length_units=length_units,\n",
    ")"
   ]
  },
  {
   "cell_type": "code",
   "execution_count": 5,
   "id": "afc290f3",
   "metadata": {},
   "outputs": [
    {
     "data": {
      "text/plain": [
       "{'num_sites': None,\n",
       " 'num_elements': None,\n",
       " 'min_edge_length': None,\n",
       " 'max_edge_length': None,\n",
       " 'mean_edge_length': None,\n",
       " 'min_area': None,\n",
       " 'max_area': None,\n",
       " 'mean_area': None,\n",
       " 'coherence_length': 0.5,\n",
       " 'length_units': 'um'}"
      ]
     },
     "execution_count": 5,
     "metadata": {},
     "output_type": "execute_result"
    }
   ],
   "source": [
    "device.mesh_stats_dict()"
   ]
  },
  {
   "cell_type": "code",
   "execution_count": 6,
   "id": "aa5b5d0c",
   "metadata": {},
   "outputs": [
    {
     "data": {
      "image/png": "[encoded data removed]",
      "text/plain": [
       "<Figure size 640x480 with 1 Axes>"
      ]
     },
     "metadata": {
      "image/png": {
       "height": 256,
       "width": 651
      }
     },
     "output_type": "display_data"
    }
   ],
   "source": [
    "fig, ax = device.draw()"
   ]
  },
  {
   "cell_type": "code",
   "execution_count": 7,
   "id": "39ed7e80",
   "metadata": {},
   "outputs": [],
   "source": [
    "device.make_mesh(min_points=2000, max_edge_length=xi / 2, optimesh_steps=40)"
   ]
  },
  {
   "cell_type": "code",
   "execution_count": 8,
   "id": "8e97337d",
   "metadata": {},
   "outputs": [
    {
     "data": {
      "text/html": [
       "<table><tr><td><b>num_sites</b></td><td>6526</td></tr><tr><td><b>num_elements</b></td><td>12737</td></tr><tr><td><b>min_edge_length</b></td><td>0.0668</td></tr><tr><td><b>max_edge_length</b></td><td>0.2083</td></tr><tr><td><b>mean_edge_length</b></td><td>0.1006</td></tr><tr><td><b>min_area</b></td><td>0.0023</td></tr><tr><td><b>max_area</b></td><td>0.0366</td></tr><tr><td><b>mean_area</b></td><td>0.0085</td></tr><tr><td><b>coherence_length</b></td><td>0.5000</td></tr><tr><td><b>length_units</b></td><td>um</td></tr></table>"
      ],
      "text/plain": [
       "<IPython.core.display.HTML object>"
      ]
     },
     "execution_count": 8,
     "metadata": {},
     "output_type": "execute_result"
    }
   ],
   "source": [
    "device.mesh_stats()"
   ]
  },
  {
   "cell_type": "code",
   "execution_count": null,
   "id": "378d8228",
   "metadata": {},
   "outputs": [],
   "source": [
    "fig, ax = device.plot(mesh=True)"
   ]
  },
  {
   "cell_type": "code",
   "execution_count": null,
   "id": "f43bc144",
   "metadata": {},
   "outputs": [],
   "source": [
    "prec = 2\n",
    "test = 3.0004"
   ]
  },
  {
   "cell_type": "code",
   "execution_count": null,
   "id": "f0da0fdd",
   "metadata": {},
   "outputs": [],
   "source": [
    "f\"{test:.{prec}f}\""
   ]
  },
  {
   "cell_type": "code",
   "execution_count": null,
   "id": "8820899b",
   "metadata": {},
   "outputs": [],
   "source": [
    "dt = 1e-3\n",
    "total_time = 100\n",
    "\n",
    "options = tdgl.SolverOptions(\n",
    "    dt_min=dt,\n",
    "    dt_max=10 * dt,\n",
    "    skip_time=100,\n",
    "    total_time=50,\n",
    "    save_every=100,\n",
    ")"
   ]
  },
  {
   "cell_type": "code",
   "execution_count": null,
   "id": "5fb4c944",
   "metadata": {},
   "outputs": [],
   "source": [
    "solution = tdgl.solve(\n",
    "    device,\n",
    "    \"data/weak-link.h5\",\n",
    "    options,\n",
    "    applied_vector_potential=tdgl.sources.constant.ConstantField(0),\n",
    "    field_units=\"uT\",\n",
    "    gamma=10,\n",
    "    source_drain_current=10,\n",
    "    current_units=\"uA\",\n",
    "    include_screening=False,\n",
    ")"
   ]
  },
  {
   "cell_type": "code",
   "execution_count": null,
   "id": "b2ac71e5",
   "metadata": {},
   "outputs": [],
   "source": [
    "fig, ax = plt.subplots()\n",
    "ax.plot(solution.dynamics.time, solution.dynamics.voltage)\n",
    "ax.axhline(solution.dynamics.mean_voltage(), color=\"C1\", label=\"Mean voltage\")\n",
    "ax.set_xlabel(\"Time, $t/\\\\tau$\")\n",
    "ax.set_ylabel(\"Voltage, $V/V_0$\")\n",
    "ax.legend(loc=1)"
   ]
  },
  {
   "cell_type": "code",
   "execution_count": null,
   "id": "faff83ac",
   "metadata": {},
   "outputs": [],
   "source": [
    "solution.plot_scalar_potential()"
   ]
  },
  {
   "cell_type": "code",
   "execution_count": null,
   "id": "468c46f9",
   "metadata": {},
   "outputs": [],
   "source": [
    "solution.plot_order_parameter()"
   ]
  },
  {
   "cell_type": "code",
   "execution_count": null,
   "id": "67b480d7",
   "metadata": {},
   "outputs": [],
   "source": [
    "from tdgl.visualization import animate"
   ]
  },
  {
   "cell_type": "code",
   "execution_count": null,
   "id": "7f0a0a89",
   "metadata": {},
   "outputs": [],
   "source": [
    "animate.MultiAnimate(\n",
    "    solution.path,\n",
    "    solution.path.replace(\".h5\", \".gif\"),\n",
    "    fps=15,\n",
    "    dpi=400,\n",
    "    observables=(\"complex_field\", \"scalar_potential\", \"normal_current\", \"supercurrent\"),\n",
    "    max_cols=2,\n",
    "    quiver=False,\n",
    "    full_title=False,\n",
    "    figure_kwargs=dict(figsize=(6, 3)),\n",
    ").build()"
   ]
  },
  {
   "cell_type": "markdown",
   "id": "39902a6b",
   "metadata": {},
   "source": [
    "Animation:\n",
    "\n",
    "![gif](data/weak-link.gif)"
   ]
  },
  {
   "cell_type": "code",
   "execution_count": null,
   "id": "2d782f7c",
   "metadata": {},
   "outputs": [],
   "source": [
    "fig, ax = plt.subplots()\n",
    "ax.plot(solution.dynamics.time, solution.dynamics.voltage)\n",
    "ax.axhline(solution.dynamics.mean_voltage(), color=\"C1\", label=\"Mean voltage\")\n",
    "ax.set_xlabel(\"Time, $t/\\\\tau$\")\n",
    "ax.set_ylabel(\"Voltage, $V/V_0$\")\n",
    "ax.legend(loc=1)"
   ]
  },
  {
   "cell_type": "code",
   "execution_count": null,
   "id": "b79febed",
   "metadata": {},
   "outputs": [],
   "source": []
  }
 ],
 "metadata": {
  "kernelspec": {
   "display_name": "Python 3 (ipykernel)",
   "language": "python",
   "name": "python3"
  },
  "language_info": {
   "codemirror_mode": {
    "name": "ipython",
    "version": 3
   },
   "file_extension": ".py",
   "mimetype": "text/x-python",
   "name": "python",
   "nbconvert_exporter": "python",
   "pygments_lexer": "ipython3",
   "version": "3.9.13"
  }
 },
 "nbformat": 4,
 "nbformat_minor": 5
}
