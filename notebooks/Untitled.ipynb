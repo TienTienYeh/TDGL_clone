{
 "cells": [
  {
   "cell_type": "code",
   "execution_count": 2,
   "id": "eefcd8eb",
   "metadata": {},
   "outputs": [],
   "source": [
    "import typing\n",
    "\n",
    "import matplotlib.pyplot as plt\n",
    "import numpy as np\n",
    "from scipy import special\n",
    "\n",
    "import sys\n",
    "sys.path.append(\"..\")"
   ]
  },
  {
   "cell_type": "code",
   "execution_count": null,
   "id": "b8800675",
   "metadata": {},
   "outputs": [],
   "source": [
    "def current_loop_vector_potential(\n",
    "    positions: np.ndarray,\n",
    "    *,\n",
    "    loop_center: typing.Sequence[float] = (0, 0, 0),\n",
    "    loop_radius: float = 1e-6,\n",
    "    current: float = 1e-3,\n",
    "):\n",
    "    \"\"\"Calculates the magnetic vector potential [Ax, Ay] at ``positions``\n",
    "    due to a 1D current loop.\n",
    "    Input units are meters and Amperes, output units are Tesla * meter.\n",
    "    Args:\n",
    "        positions: Shape (n, 3) array of (x, y, z) positions at which to\n",
    "            evaluate the vector potential.\n",
    "        loop_center: (x, y, z) coordinates of the current loop center.\n",
    "        loop_radius: radius of the current loop.\n",
    "        current: Magnitude of the current flowing in the loop.\n",
    "    Returns:\n",
    "        Shape (n, 3) array of the vector potential [Ax, Ay, Az] at ``positions``.\n",
    "    \"\"\"\n",
    "    # http://www.physics.usu.edu/Wheeler/EMarchive/Jch5Notes.pdf\n",
    "    positions = np.atleast_2d(positions)\n",
    "    loop_center = np.atleast_2d(loop_center)\n",
    "    a = loop_radius\n",
    "\n",
    "    positions = positions - loop_center\n",
    "    # This is a pint-friendly vector norm.\n",
    "    rs = np.sqrt(np.sum(np.square(positions), axis=1))\n",
    "    # rs = la.norm(positions, axis=1)\n",
    "    thetas = np.arccos(positions[:, 2] / rs)\n",
    "    sin_thetas = np.sin(thetas)\n",
    "    # m == k**2, see docs for scipy.special.ellipk\n",
    "    denom = rs**2 + a**2 + 2 * a * rs * sin_thetas\n",
    "    m = 4 * a * rs * sin_thetas / denom\n",
    "    K = special.ellipk(m)\n",
    "    E = special.ellipe(m)\n",
    "    mag = -mu_0 * current * a / (np.pi * m) * (((m - 2) * K + 2 * E)) / np.sqrt(denom)\n",
    "    # \\vec{A} is directed along the azimuthal direction,\n",
    "    # so here we generate the azimuthal unit vector.\n",
    "    # Azimuthal angle + pi / 2 to get azimuthal direction.\n",
    "    phis = np.arctan2(positions[:, 1], positions[:, 0]) + np.pi / 2\n",
    "    direc = np.stack([np.cos(phis), np.sin(phis), np.zeros_like(phis)], axis=1)\n",
    "    return mag[:, np.newaxis] * direc"
   ]
  },
  {
   "cell_type": "code",
   "execution_count": null,
   "id": "8c38f52c",
   "metadata": {},
   "outputs": [],
   "source": [
    "import tdgl"
   ]
  },
  {
   "cell_type": "code",
   "execution_count": null,
   "id": "0ad9f0ea",
   "metadata": {},
   "outputs": [],
   "source": [
    "mu_0 = tdgl.units.ureg(\"mu_0\").to_base_units().m"
   ]
  },
  {
   "cell_type": "code",
   "execution_count": null,
   "id": "8aff744f",
   "metadata": {},
   "outputs": [],
   "source": [
    "layer = tdgl.device.components.Layer(\n",
    "    \"base\", coherence_length=1, london_lambda=100, thickness=0.1, z0=0,\n",
    ")"
   ]
  },
  {
   "cell_type": "code",
   "execution_count": null,
   "id": "ac2e879f",
   "metadata": {},
   "outputs": [],
   "source": [
    "film = tdgl.device.components.Polygon(\"film\", layer=layer.name, points=tdgl.geometry.box(50, points_per_side=80))\n",
    "source = tdgl.device.components.Polygon(points=tdgl.geometry.box(0.1, 51, center=(-25, 0)))\n",
    "drain = source.scale(xfact=-1)"
   ]
  },
  {
   "cell_type": "code",
   "execution_count": null,
   "id": "e1a2ca8d",
   "metadata": {},
   "outputs": [],
   "source": [
    "device = tdgl.device.device.Device(\n",
    "    \"box\",\n",
    "    layer=layer,\n",
    "    film=film,\n",
    "    source_terminal=source,\n",
    "    drain_terminal=drain,\n",
    "    length_units=\"um\",\n",
    ")"
   ]
  },
  {
   "cell_type": "code",
   "execution_count": null,
   "id": "7ac75643",
   "metadata": {},
   "outputs": [],
   "source": [
    "device.make_mesh(min_points=1000, optimesh_steps=100)"
   ]
  },
  {
   "cell_type": "code",
   "execution_count": null,
   "id": "dac693d2",
   "metadata": {},
   "outputs": [],
   "source": [
    "device.plot(mesh=True)"
   ]
  },
  {
   "cell_type": "code",
   "execution_count": null,
   "id": "e20552f4",
   "metadata": {},
   "outputs": [],
   "source": [
    "device.points.shape"
   ]
  },
  {
   "cell_type": "code",
   "execution_count": null,
   "id": "c7e6561c",
   "metadata": {},
   "outputs": [],
   "source": [
    "from tdgl.em import uniform_Bz_vector_potential"
   ]
  },
  {
   "cell_type": "code",
   "execution_count": null,
   "id": "0cb82b88",
   "metadata": {},
   "outputs": [],
   "source": [
    "ureg = device.ureg\n",
    "loop_center = np.array([[0, 0, 1]])\n",
    "loop_radius = 1\n",
    "loop_current = 1e-3\n",
    "\n",
    "def applied_potential(x, y, z, field=\"1 uT\"):\n",
    "    \n",
    "#     loop_center = np.array([[0, 0, 1]])\n",
    "#     loop_radius = 2.5\n",
    "#     loop_current = 1e-4\n",
    "\n",
    "    length_units = ureg(device.length_units)\n",
    "    positions = (\n",
    "        np.stack([x, y, z], axis=1) * length_units\n",
    "    ).to(\"m\")\n",
    "#     loop_center = (loop_center * length_units).to(\"m\").m\n",
    "#     loop_radius = (loop_radius * length_units).to(\"m\").m\n",
    "#     potential = current_loop_vector_potential(\n",
    "#         positions,\n",
    "#         loop_center=loop_center,\n",
    "#         current=loop_current,\n",
    "#         loop_radius=loop_radius,\n",
    "#     ) * ureg(\"T * m\")\n",
    "    potential = uniform_Bz_vector_potential(positions, field)\n",
    "    return potential.to(f\"mT * {device.length_units}\").m"
   ]
  },
  {
   "cell_type": "code",
   "execution_count": null,
   "id": "b27d3257",
   "metadata": {},
   "outputs": [],
   "source": [
    "from tdgl.solve import solve"
   ]
  },
  {
   "cell_type": "code",
   "execution_count": null,
   "id": "f916a522",
   "metadata": {},
   "outputs": [],
   "source": [
    "vector_potential = tdgl.parameter.Parameter(applied_potential, field=\"2 uT\")"
   ]
  },
  {
   "cell_type": "code",
   "execution_count": null,
   "id": "cde56e14",
   "metadata": {},
   "outputs": [],
   "source": [
    "solution = solve(\n",
    "    device,\n",
    "    vector_potential,\n",
    "    \"output1.h5\",\n",
    "    field_units=\"mT\",\n",
    "    gamma=10,\n",
    "    dt=1e-2,\n",
    "    skip=0,\n",
    "    steps=10_000,\n",
    "    source_drain_current=0,\n",
    ")"
   ]
  },
  {
   "cell_type": "code",
   "execution_count": null,
   "id": "0144faa4",
   "metadata": {},
   "outputs": [],
   "source": [
    "xs = np.linspace(-25 / 1, 25 / 1, 101)\n",
    "cross = [\n",
    "    np.stack([xs, xs], axis=1)\n",
    "]\n",
    "\n",
    "_ = solution.plot_currents(cross_section_coords=cross, dataset=\"supercurrent\", figsize=(4, 6), streamplot=True)"
   ]
  },
  {
   "cell_type": "code",
   "execution_count": null,
   "id": "1aebe7aa",
   "metadata": {},
   "outputs": [],
   "source": [
    "f = solution.polygon_fluxoid(tdgl.geometry.circle(5, center=(0, 0), points=101))"
   ]
  },
  {
   "cell_type": "code",
   "execution_count": null,
   "id": "312d01b0",
   "metadata": {},
   "outputs": [],
   "source": [
    "f"
   ]
  },
  {
   "cell_type": "code",
   "execution_count": null,
   "id": "0ebfccc1",
   "metadata": {},
   "outputs": [],
   "source": [
    "f.flux_part / f.supercurrent_part"
   ]
  },
  {
   "cell_type": "code",
   "execution_count": null,
   "id": "0c04d4d0",
   "metadata": {},
   "outputs": [],
   "source": [
    "import superscreen as sc"
   ]
  },
  {
   "cell_type": "code",
   "execution_count": null,
   "id": "0f4a2de3",
   "metadata": {},
   "outputs": [],
   "source": [
    "device = sc.Device(\n",
    "    \"box\",\n",
    "    layers=[sc.Layer(\"base\", london_lambda=50, thickness=0.1, z0=0)],\n",
    "    films=[sc.Polygon(\"film\", layer=\"base\", points=tdgl.geometry.box(50 / 2))],\n",
    "    abstract_regions=[\n",
    "        sc.Polygon(\"bounding_box\", layer=\"base\", points=tdgl.geometry.box(55 / 2)),\n",
    "    ],\n",
    "    length_units=\"um\"\n",
    ")"
   ]
  },
  {
   "cell_type": "code",
   "execution_count": null,
   "id": "a79ce6ed",
   "metadata": {},
   "outputs": [],
   "source": [
    "device.make_mesh(min_points=2000, optimesh_steps=20)"
   ]
  },
  {
   "cell_type": "code",
   "execution_count": null,
   "id": "75bde2bb",
   "metadata": {},
   "outputs": [],
   "source": [
    "from tdgl.em import current_loop_field"
   ]
  },
  {
   "cell_type": "code",
   "execution_count": null,
   "id": "79bf79c2",
   "metadata": {},
   "outputs": [],
   "source": [
    "def applied_field(x, y, z, *, current, loop_center, loop_radius):\n",
    "    if z.shape != x.shape:\n",
    "        z = z[0] * np.ones_like(x)\n",
    "    positions = np.stack([x, y, z], axis=1) * 1e-6\n",
    "    field_in_tesla = current_loop_field(\n",
    "        positions,\n",
    "        loop_center=np.array(loop_center) * 1e-6,\n",
    "        loop_radius=loop_radius * 1e-6,\n",
    "        current=current\n",
    "    )\n",
    "    return 1e3 * field_in_tesla[:, 2]"
   ]
  },
  {
   "cell_type": "code",
   "execution_count": null,
   "id": "ad15797b",
   "metadata": {},
   "outputs": [],
   "source": [
    "solution = sc.solve(\n",
    "    device,\n",
    "#     applied_field=sc.Parameter(\n",
    "#         applied_field,\n",
    "#         current=1e-4,\n",
    "#         loop_center=(0, 0, 1),\n",
    "#         loop_radius=2.5,\n",
    "#     ),\n",
    "    applied_field=sc.sources.ConstantField(2e-3),\n",
    "    field_units=\"mT\",\n",
    "    current_units=\"uA\",\n",
    ")[-1]"
   ]
  },
  {
   "cell_type": "code",
   "execution_count": null,
   "id": "445f53d4",
   "metadata": {},
   "outputs": [],
   "source": [
    "solution.polygon_fluxoid(tdgl.geometry.circle(5, center=(0, 0), points=101))"
   ]
  },
  {
   "cell_type": "code",
   "execution_count": null,
   "id": "10540e83",
   "metadata": {},
   "outputs": [],
   "source": [
    "xs = np.linspace(-25, 25, 101)\n",
    "cross = [\n",
    "    np.stack([xs, xs], axis=1)\n",
    "]\n",
    "\n",
    "_ = solution.plot_currents(cross_section_coords=cross, grid_method=\"cubic\", figsize=(4, 6), streamplot=False)"
   ]
  },
  {
   "cell_type": "code",
   "execution_count": null,
   "id": "c2082378",
   "metadata": {},
   "outputs": [],
   "source": [
    "xs = np.linspace(-25, 25, 101)\n",
    "cross = [\n",
    "    np.stack([xs, xs], axis=1)\n",
    "]\n",
    "\n",
    "_ = solution.plot_fields(cross_section_coords=cross, figsize=(4, 6), units=\"uT\")"
   ]
  },
  {
   "cell_type": "code",
   "execution_count": null,
   "id": "7fbae240",
   "metadata": {},
   "outputs": [],
   "source": [
    "solution.polygon_fluxoid(tdgl.geometry.circle(5, center=(0, 0), points=101))"
   ]
  },
  {
   "cell_type": "code",
   "execution_count": null,
   "id": "28deac78",
   "metadata": {},
   "outputs": [],
   "source": [
    "solution"
   ]
  },
  {
   "cell_type": "code",
   "execution_count": null,
   "id": "57d88d27",
   "metadata": {},
   "outputs": [],
   "source": [
    "(-0.03737217 / -0.00966151097)**2"
   ]
  },
  {
   "cell_type": "code",
   "execution_count": null,
   "id": "ab925d2a",
   "metadata": {},
   "outputs": [],
   "source": [
    "-0.11848215 / -0.0313327807"
   ]
  },
  {
   "cell_type": "code",
   "execution_count": null,
   "id": "f9ac6b47",
   "metadata": {},
   "outputs": [],
   "source": []
  },
  {
   "cell_type": "code",
   "execution_count": null,
   "id": "2a882c9d",
   "metadata": {},
   "outputs": [],
   "source": [
    "np.linalg.norm(solution.current_densities[\"base\"], axis=1).max()"
   ]
  },
  {
   "cell_type": "code",
   "execution_count": null,
   "id": "f24744d2",
   "metadata": {},
   "outputs": [],
   "source": [
    "xy = device.points\n",
    "zs = 0\n",
    "\n",
    "A = solution.applied_vector_potential(xy[:, 0], xy[:, 1], np.zeros(xy.shape[0]))"
   ]
  },
  {
   "cell_type": "code",
   "execution_count": null,
   "id": "6a18bfc1",
   "metadata": {},
   "outputs": [],
   "source": [
    "A"
   ]
  },
  {
   "cell_type": "code",
   "execution_count": 3,
   "id": "c07a407b",
   "metadata": {},
   "outputs": [],
   "source": [
    "from superscreen import ureg"
   ]
  },
  {
   "cell_type": "code",
   "execution_count": 11,
   "id": "318fab70",
   "metadata": {},
   "outputs": [],
   "source": [
    "sigma = 1 / ureg(\"1.5e-7 ohm * m\")\n",
    "lamda = ureg(\"1 um\")\n",
    "mu_0 = ureg(\"mu_0\")\n",
    "tau = (sigma * mu_0 * lamda**2).to(\"s\")"
   ]
  },
  {
   "cell_type": "code",
   "execution_count": 14,
   "id": "9826abd6",
   "metadata": {},
   "outputs": [
    {
     "data": {
      "text/html": [
       "0.008377580414167066 nanosecond"
      ],
      "text/latex": [
       "$0.008377580414167066\\ \\mathrm{nanosecond}$"
      ],
      "text/plain": [
       "0.008377580414167066 <Unit('nanosecond')>"
      ]
     },
     "execution_count": 14,
     "metadata": {},
     "output_type": "execute_result"
    }
   ],
   "source": [
    "tau.to(\"ns\")"
   ]
  },
  {
   "cell_type": "code",
   "execution_count": null,
   "id": "133580a9",
   "metadata": {},
   "outputs": [],
   "source": []
  }
 ],
 "metadata": {
  "kernelspec": {
   "display_name": "Python 3",
   "language": "python",
   "name": "python3"
  },
  "language_info": {
   "codemirror_mode": {
    "name": "ipython",
    "version": 3
   },
   "file_extension": ".py",
   "mimetype": "text/x-python",
   "name": "python",
   "nbconvert_exporter": "python",
   "pygments_lexer": "ipython3",
   "version": "3.9.5"
  }
 },
 "nbformat": 4,
 "nbformat_minor": 5
}
