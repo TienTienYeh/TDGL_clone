{
 "cells": [
  {
   "cell_type": "code",
   "execution_count": null,
   "id": "dc42c362",
   "metadata": {},
   "outputs": [],
   "source": [
    "%config InlineBackend.figure_formats = {\"retina\", \"png\"}\n",
    "%matplotlib inline\n",
    "import os\n",
    "import sys\n",
    "\n",
    "import h5py\n",
    "import matplotlib.pyplot as plt\n",
    "import numpy as np\n",
    "from scipy import interpolate\n",
    "from scipy import constants\n",
    "\n",
    "sys.path.insert(0, os.path.expandvars(\"$HOME/GitHub/super-detector-py\"))"
   ]
  },
  {
   "cell_type": "code",
   "execution_count": null,
   "id": "f5d1d308",
   "metadata": {},
   "outputs": [],
   "source": [
    "# !python \"$HOME/GitHub/super-detector-py/simulate.py\" \"mesh.h5\" \"test-output.h5\" -t 1e-3 -s 1e4 -e 100 -b 0.05"
   ]
  },
  {
   "cell_type": "code",
   "execution_count": null,
   "id": "bab4e948",
   "metadata": {},
   "outputs": [],
   "source": [
    "from src.mesh.mesh import Mesh\n",
    "from src.visualization.visualization_helpers import (\n",
    "    get_data_range,\n",
    "    load_tdgl_data,\n",
    "    get_edge_observable_data,\n",
    "    get_magnetic_field,\n",
    ")\n",
    "from src.tdgl import get_supercurrent, get_observable_on_site"
   ]
  },
  {
   "cell_type": "code",
   "execution_count": null,
   "id": "0604b37e",
   "metadata": {},
   "outputs": [],
   "source": [
    "from typing import NamedTuple\n",
    "\n",
    "class TDGLData(NamedTuple):\n",
    "    psi: np.ndarray\n",
    "    mu: np.ndarray\n",
    "    a: np.ndarray\n",
    "    supercurrent: np.ndarray\n",
    "    normal_current: np.ndarray"
   ]
  },
  {
   "cell_type": "code",
   "execution_count": null,
   "id": "03fd8fd6",
   "metadata": {},
   "outputs": [],
   "source": [
    "with h5py.File(\"test-output.h5\", \"r\") as f:\n",
    "    start, end = get_data_range(f)\n",
    "    tdgl_data = TDGLData(*load_tdgl_data(f, end))\n",
    "    mesh = Mesh.load_from_hdf5(f[\"mesh\"])\n",
    "b = get_magnetic_field(\"test-output.h5\", end)"
   ]
  },
  {
   "cell_type": "code",
   "execution_count": null,
   "id": "8a38eb55",
   "metadata": {},
   "outputs": [],
   "source": [
    "tdgl_data"
   ]
  },
  {
   "cell_type": "code",
   "execution_count": null,
   "id": "d9670745",
   "metadata": {},
   "outputs": [],
   "source": [
    "directions = mesh.edge_mesh.directions\n",
    "unit_vectors = directions / np.linalg.norm(directions, axis=1)[:, np.newaxis]"
   ]
  },
  {
   "cell_type": "code",
   "execution_count": null,
   "id": "ad246f96",
   "metadata": {},
   "outputs": [],
   "source": [
    "xi = 1e-6 # meters\n",
    "lambda_ = 5e-6 # meters\n",
    "Phi_0 = constants.physical_constants[\"magn. flux quantum\"][0]\n",
    "mu_0 = constants.mu_0\n",
    "hbar = constants.hbar\n",
    "e = constants.elementary_charge\n",
    "d = 0.1e-6 # meters\n",
    "\n",
    "Lambda = lambda_**2 / d\n",
    "\n",
    "Bc2 = Phi_0 / (2 * np.pi * xi**2) # tesla\n",
    "J0 = 4 * hbar / (2 * mu_0 * e * xi * lambda_**2 / d) # A / m^2\n",
    "# J0 = 4 * xi * Bc2 / (mu_0 * Lambda)"
   ]
  },
  {
   "cell_type": "code",
   "execution_count": null,
   "id": "d16b4daf",
   "metadata": {},
   "outputs": [],
   "source": [
    "J = J0 * get_observable_on_site(tdgl_data.supercurrent, mesh)"
   ]
  },
  {
   "cell_type": "code",
   "execution_count": null,
   "id": "cd780b7e",
   "metadata": {},
   "outputs": [],
   "source": [
    "# Integration path\n",
    "thetas = np.linspace(0, 2 * np.pi, 501)\n",
    "r = 3 * xi\n",
    "x = r * np.cos(thetas)\n",
    "y = r * np.sin(thetas)\n",
    "coords = np.stack([x, y], axis=1)\n",
    "\n",
    "dr = np.diff(coords, prepend=coords[:1], axis=0)\n",
    "\n",
    "points = np.stack([mesh.x, mesh.y], axis=1) * xi"
   ]
  },
  {
   "cell_type": "code",
   "execution_count": null,
   "id": "287842f2",
   "metadata": {},
   "outputs": [],
   "source": [
    "J_interp = interpolate.LinearNDInterpolator(points, J)"
   ]
  },
  {
   "cell_type": "code",
   "execution_count": null,
   "id": "d668bbd6",
   "metadata": {},
   "outputs": [],
   "source": [
    "contour_supercurrent = mu_0 * Lambda * np.trapz((J_interp(coords) * dr).sum(axis=1))"
   ]
  },
  {
   "cell_type": "code",
   "execution_count": null,
   "id": "421296f8",
   "metadata": {},
   "outputs": [],
   "source": [
    "contour_flux = b * Bc2 * np.pi * r**2"
   ]
  },
  {
   "cell_type": "code",
   "execution_count": null,
   "id": "642f4680",
   "metadata": {},
   "outputs": [],
   "source": [
    "contour_supercurrent / Phi_0"
   ]
  },
  {
   "cell_type": "code",
   "execution_count": null,
   "id": "87436f7d",
   "metadata": {},
   "outputs": [],
   "source": [
    "contour_flux / Phi_0"
   ]
  },
  {
   "cell_type": "code",
   "execution_count": null,
   "id": "05254553",
   "metadata": {},
   "outputs": [],
   "source": [
    "contour_supercurrent / contour_flux"
   ]
  },
  {
   "cell_type": "code",
   "execution_count": null,
   "id": "e14c3385",
   "metadata": {},
   "outputs": [],
   "source": [
    "fig, ax = plt.subplots()\n",
    "ax.set_aspect(\"equal\")\n",
    "im = ax.tripcolor(\n",
    "    points[:, 0] / xi,\n",
    "    points[:, 1] / xi,\n",
    "    np.linalg.norm(J, axis=1),\n",
    "    cmap=\"inferno\",\n",
    "    triangles=mesh.elements,\n",
    "    vmin=0,\n",
    "    vmax=0.25,\n",
    ")\n",
    "ax.quiver(\n",
    "    points[:, 0] / xi,\n",
    "    points[:, 1] / xi,\n",
    "    J[:, 0],\n",
    "    J[:, 1],\n",
    "    color=\"w\",\n",
    ")\n",
    "cbar = fig.colorbar(im, ax=ax)"
   ]
  },
  {
   "cell_type": "code",
   "execution_count": null,
   "id": "a91d9bf6",
   "metadata": {},
   "outputs": [],
   "source": [
    "b * Bc2"
   ]
  },
  {
   "cell_type": "code",
   "execution_count": null,
   "id": "e658ceab",
   "metadata": {},
   "outputs": [],
   "source": [
    "import superscreen as sc"
   ]
  },
  {
   "cell_type": "code",
   "execution_count": null,
   "id": "69e8ebfb",
   "metadata": {},
   "outputs": [],
   "source": [
    "ro = 5\n",
    "ri = 2\n",
    "\n",
    "layer = sc.Layer(\"base\", london_lambda=5, thickness=0.1, z0=0)\n",
    "film = sc.Polygon(\"film\", layer=layer.name, points=sc.geometry.box(10))\n",
    "hole = sc.Polygon(\"hole\", layer=layer.name, points=sc.geometry.circle(ri))\n",
    "bbox = sc.Polygon(\"bounding_box\", layer=layer.name, points=sc.geometry.box(12))\n",
    "\n",
    "device = sc.Device(\n",
    "    \"box\",\n",
    "    layers=[layer],\n",
    "    films=[film],\n",
    "#     holes=[hole],\n",
    "    abstract_regions=[bbox],\n",
    ")"
   ]
  },
  {
   "cell_type": "code",
   "execution_count": null,
   "id": "153247d5",
   "metadata": {},
   "outputs": [],
   "source": [
    "device.make_mesh(min_points=2000)"
   ]
  },
  {
   "cell_type": "code",
   "execution_count": null,
   "id": "80dec73f",
   "metadata": {},
   "outputs": [],
   "source": [
    "device.plot(mesh=True)"
   ]
  },
  {
   "cell_type": "code",
   "execution_count": null,
   "id": "fc0c103c",
   "metadata": {},
   "outputs": [],
   "source": [
    "solution = sc.find_fluxoid_solution(\n",
    "    device,\n",
    "    applied_field=sc.sources.ConstantField(1e3 * b * Bc2),\n",
    "    field_units=\"mT\",\n",
    "    current_units=\"uA\",\n",
    ")"
   ]
  },
  {
   "cell_type": "code",
   "execution_count": null,
   "id": "f520b66b",
   "metadata": {},
   "outputs": [],
   "source": [
    "solution.plot_currents()"
   ]
  },
  {
   "cell_type": "code",
   "execution_count": null,
   "id": "8009b2b5",
   "metadata": {},
   "outputs": [],
   "source": [
    "f = solution.polygon_fluxoid(sc.geometry.circle(3))[\"base\"]"
   ]
  },
  {
   "cell_type": "code",
   "execution_count": null,
   "id": "32897687",
   "metadata": {},
   "outputs": [],
   "source": [
    "f"
   ]
  },
  {
   "cell_type": "code",
   "execution_count": null,
   "id": "68bf4ac3",
   "metadata": {},
   "outputs": [],
   "source": [
    "f.supercurrent_part"
   ]
  },
  {
   "cell_type": "code",
   "execution_count": null,
   "id": "265ef88a",
   "metadata": {},
   "outputs": [],
   "source": [
    "fig, ax = plt.subplots()\n",
    "counts, edges, _ = ax.hist(np.linalg.norm(J, axis=1), bins=101, density=True)\n",
    "_ = ax.hist(\n",
    "    np.linalg.norm(solution.current_densities[\"base\"], axis=1),\n",
    "    bins=edges,\n",
    "    density=True,\n",
    "    alpha=0.5\n",
    ")"
   ]
  },
  {
   "cell_type": "code",
   "execution_count": null,
   "id": "b7874dd9",
   "metadata": {},
   "outputs": [],
   "source": [
    "solution"
   ]
  },
  {
   "cell_type": "code",
   "execution_count": null,
   "id": "ba3c229a",
   "metadata": {},
   "outputs": [],
   "source": []
  }
 ],
 "metadata": {
  "kernelspec": {
   "display_name": "Python 3",
   "language": "python",
   "name": "python3"
  },
  "language_info": {
   "codemirror_mode": {
    "name": "ipython",
    "version": 3
   },
   "file_extension": ".py",
   "mimetype": "text/x-python",
   "name": "python",
   "nbconvert_exporter": "python",
   "pygments_lexer": "ipython3",
   "version": "3.9.5"
  }
 },
 "nbformat": 4,
 "nbformat_minor": 5
}
